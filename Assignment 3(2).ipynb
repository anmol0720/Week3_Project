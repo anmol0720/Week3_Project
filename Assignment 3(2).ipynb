{
  "cells": [
    {
      "metadata": {
        "trusted": true
      },
      "cell_type": "code",
      "source": "!pwd",
      "execution_count": 1,
      "outputs": [
        {
          "output_type": "stream",
          "text": "/home/nbuser/library/WEEK3\r\n",
          "name": "stdout"
        }
      ]
    },
    {
      "metadata": {
        "trusted": true
      },
      "cell_type": "code",
      "source": "import numpy as np\nimport pandas as pd\nimport matplotlib.pyplot as plt\nimport seaborn as sns\nimport warnings\nwarnings.filterwarnings('ignore')\ndf=pd.read_csv('/home/nbuser/library/WEEK3/kc_house_data.csv')\ndf.head()",
      "execution_count": 2,
      "outputs": [
        {
          "output_type": "execute_result",
          "execution_count": 2,
          "data": {
            "text/html": "<div>\n<style scoped>\n    .dataframe tbody tr th:only-of-type {\n        vertical-align: middle;\n    }\n\n    .dataframe tbody tr th {\n        vertical-align: top;\n    }\n\n    .dataframe thead th {\n        text-align: right;\n    }\n</style>\n<table border=\"1\" class=\"dataframe\">\n  <thead>\n    <tr style=\"text-align: right;\">\n      <th></th>\n      <th>id</th>\n      <th>date</th>\n      <th>price</th>\n      <th>bedrooms</th>\n      <th>bathrooms</th>\n      <th>sqft_living</th>\n      <th>sqft_lot</th>\n      <th>floors</th>\n      <th>waterfront</th>\n      <th>view</th>\n      <th>...</th>\n      <th>grade</th>\n      <th>sqft_above</th>\n      <th>sqft_basement</th>\n      <th>yr_built</th>\n      <th>yr_renovated</th>\n      <th>zipcode</th>\n      <th>lat</th>\n      <th>long</th>\n      <th>sqft_living15</th>\n      <th>sqft_lot15</th>\n    </tr>\n  </thead>\n  <tbody>\n    <tr>\n      <th>0</th>\n      <td>7129300520</td>\n      <td>20141013T000000</td>\n      <td>221900.0</td>\n      <td>3</td>\n      <td>1.00</td>\n      <td>1180</td>\n      <td>5650</td>\n      <td>1.0</td>\n      <td>0</td>\n      <td>0</td>\n      <td>...</td>\n      <td>7</td>\n      <td>1180</td>\n      <td>0</td>\n      <td>1955</td>\n      <td>0</td>\n      <td>98178</td>\n      <td>47.5112</td>\n      <td>-122.257</td>\n      <td>1340</td>\n      <td>5650</td>\n    </tr>\n    <tr>\n      <th>1</th>\n      <td>6414100192</td>\n      <td>20141209T000000</td>\n      <td>538000.0</td>\n      <td>3</td>\n      <td>2.25</td>\n      <td>2570</td>\n      <td>7242</td>\n      <td>2.0</td>\n      <td>0</td>\n      <td>0</td>\n      <td>...</td>\n      <td>7</td>\n      <td>2170</td>\n      <td>400</td>\n      <td>1951</td>\n      <td>1991</td>\n      <td>98125</td>\n      <td>47.7210</td>\n      <td>-122.319</td>\n      <td>1690</td>\n      <td>7639</td>\n    </tr>\n    <tr>\n      <th>2</th>\n      <td>5631500400</td>\n      <td>20150225T000000</td>\n      <td>180000.0</td>\n      <td>2</td>\n      <td>1.00</td>\n      <td>770</td>\n      <td>10000</td>\n      <td>1.0</td>\n      <td>0</td>\n      <td>0</td>\n      <td>...</td>\n      <td>6</td>\n      <td>770</td>\n      <td>0</td>\n      <td>1933</td>\n      <td>0</td>\n      <td>98028</td>\n      <td>47.7379</td>\n      <td>-122.233</td>\n      <td>2720</td>\n      <td>8062</td>\n    </tr>\n    <tr>\n      <th>3</th>\n      <td>2487200875</td>\n      <td>20141209T000000</td>\n      <td>604000.0</td>\n      <td>4</td>\n      <td>3.00</td>\n      <td>1960</td>\n      <td>5000</td>\n      <td>1.0</td>\n      <td>0</td>\n      <td>0</td>\n      <td>...</td>\n      <td>7</td>\n      <td>1050</td>\n      <td>910</td>\n      <td>1965</td>\n      <td>0</td>\n      <td>98136</td>\n      <td>47.5208</td>\n      <td>-122.393</td>\n      <td>1360</td>\n      <td>5000</td>\n    </tr>\n    <tr>\n      <th>4</th>\n      <td>1954400510</td>\n      <td>20150218T000000</td>\n      <td>510000.0</td>\n      <td>3</td>\n      <td>2.00</td>\n      <td>1680</td>\n      <td>8080</td>\n      <td>1.0</td>\n      <td>0</td>\n      <td>0</td>\n      <td>...</td>\n      <td>8</td>\n      <td>1680</td>\n      <td>0</td>\n      <td>1987</td>\n      <td>0</td>\n      <td>98074</td>\n      <td>47.6168</td>\n      <td>-122.045</td>\n      <td>1800</td>\n      <td>7503</td>\n    </tr>\n  </tbody>\n</table>\n<p>5 rows × 21 columns</p>\n</div>",
            "text/plain": "           id             date     price  bedrooms  bathrooms  sqft_living  \\\n0  7129300520  20141013T000000  221900.0         3       1.00         1180   \n1  6414100192  20141209T000000  538000.0         3       2.25         2570   \n2  5631500400  20150225T000000  180000.0         2       1.00          770   \n3  2487200875  20141209T000000  604000.0         4       3.00         1960   \n4  1954400510  20150218T000000  510000.0         3       2.00         1680   \n\n   sqft_lot  floors  waterfront  view     ...      grade  sqft_above  \\\n0      5650     1.0           0     0     ...          7        1180   \n1      7242     2.0           0     0     ...          7        2170   \n2     10000     1.0           0     0     ...          6         770   \n3      5000     1.0           0     0     ...          7        1050   \n4      8080     1.0           0     0     ...          8        1680   \n\n   sqft_basement  yr_built  yr_renovated  zipcode      lat     long  \\\n0              0      1955             0    98178  47.5112 -122.257   \n1            400      1951          1991    98125  47.7210 -122.319   \n2              0      1933             0    98028  47.7379 -122.233   \n3            910      1965             0    98136  47.5208 -122.393   \n4              0      1987             0    98074  47.6168 -122.045   \n\n   sqft_living15  sqft_lot15  \n0           1340        5650  \n1           1690        7639  \n2           2720        8062  \n3           1360        5000  \n4           1800        7503  \n\n[5 rows x 21 columns]"
          },
          "metadata": {}
        }
      ]
    },
    {
      "metadata": {},
      "cell_type": "markdown",
      "source": "# MODEL DEVELOPMENT\n    More Relevent The Data More Is The Accuracy"
    },
    {
      "metadata": {},
      "cell_type": "markdown",
      "source": "Simple And Multiple Liner Regression"
    },
    {
      "metadata": {},
      "cell_type": "markdown",
      "source": "Simple Linear regression depends on one variable and multiple linear regression depends on multiple variables.\n      \n      During Plot We Keep:\n        X-Predictor(Independent Variable)\n        Y-Target"
    },
    {
      "metadata": {},
      "cell_type": "markdown",
      "source": "Simple Linear Regression"
    },
    {
      "metadata": {
        "trusted": true
      },
      "cell_type": "code",
      "source": "from sklearn.linear_model import LinearRegression",
      "execution_count": 3,
      "outputs": []
    },
    {
      "metadata": {
        "trusted": true
      },
      "cell_type": "code",
      "source": "#object creation\nlm=LinearRegression()\nx=df[['sqft_living']]\ny=df[['price']]",
      "execution_count": 4,
      "outputs": []
    },
    {
      "metadata": {
        "trusted": true
      },
      "cell_type": "code",
      "source": "#to fit\nlm.fit(x,y)",
      "execution_count": 5,
      "outputs": [
        {
          "output_type": "execute_result",
          "execution_count": 5,
          "data": {
            "text/plain": "LinearRegression(copy_X=True, fit_intercept=True, n_jobs=None,\n         normalize=False)"
          },
          "metadata": {}
        }
      ]
    },
    {
      "metadata": {
        "trusted": true
      },
      "cell_type": "code",
      "source": "#for prediction\nYhat=lm.predict(x)\nprint(Yhat)",
      "execution_count": 6,
      "outputs": [
        {
          "output_type": "stream",
          "text": "[[287555.06702452]\n [677621.82640197]\n [172499.40418656]\n ...\n [242655.29616092]\n [405416.96554144]\n [242655.29616092]]\n",
          "name": "stdout"
        }
      ]
    },
    {
      "metadata": {},
      "cell_type": "markdown",
      "source": "Since Mathematically Linear Regression is represented as :\n    \n    y=b0+b1(x)\n    and to get the value of b0 : intercept\n    and b1 : coef"
    },
    {
      "metadata": {
        "trusted": true
      },
      "cell_type": "code",
      "source": "lm.intercept_",
      "execution_count": 7,
      "outputs": [
        {
          "output_type": "execute_result",
          "execution_count": 7,
          "data": {
            "text/plain": "array([-43580.74309447])"
          },
          "metadata": {}
        }
      ]
    },
    {
      "metadata": {
        "trusted": true
      },
      "cell_type": "code",
      "source": "lm.coef_",
      "execution_count": 8,
      "outputs": [
        {
          "output_type": "execute_result",
          "execution_count": 8,
          "data": {
            "text/plain": "array([[280.6235679]])"
          },
          "metadata": {}
        }
      ]
    },
    {
      "metadata": {},
      "cell_type": "markdown",
      "source": "Multiple Regression"
    },
    {
      "metadata": {},
      "cell_type": "markdown",
      "source": "    Multiple X - Predictors\n    One Y - Target"
    },
    {
      "metadata": {
        "trusted": true,
        "scrolled": false
      },
      "cell_type": "code",
      "source": "z=df[['bedrooms','bathrooms','sqft_living','yr_built']]\nx=df[['price']]\nlm.fit(z,x)",
      "execution_count": 9,
      "outputs": [
        {
          "output_type": "execute_result",
          "execution_count": 9,
          "data": {
            "text/plain": "LinearRegression(copy_X=True, fit_intercept=True, n_jobs=None,\n         normalize=False)"
          },
          "metadata": {}
        }
      ]
    },
    {
      "metadata": {},
      "cell_type": "markdown",
      "source": "MATHEMATICALLY:\n        \n        Yhat=b0+b1(x1)+b2(x2)+b3(x3)"
    },
    {
      "metadata": {
        "trusted": true
      },
      "cell_type": "code",
      "source": "lm.intercept_",
      "execution_count": 10,
      "outputs": [
        {
          "output_type": "execute_result",
          "execution_count": 10,
          "data": {
            "text/plain": "array([6023933.39750851])"
          },
          "metadata": {}
        }
      ]
    },
    {
      "metadata": {
        "trusted": true
      },
      "cell_type": "code",
      "source": "lm.coef_",
      "execution_count": 11,
      "outputs": [
        {
          "output_type": "execute_result",
          "execution_count": 11,
          "data": {
            "text/plain": "array([[-69611.69215227,  82913.16472893,    300.01949191,\n         -3068.76265355]])"
          },
          "metadata": {}
        }
      ]
    },
    {
      "metadata": {},
      "cell_type": "markdown",
      "source": "# MODEL EVALUATION USING VISUALTIZATION"
    },
    {
      "metadata": {},
      "cell_type": "markdown",
      "source": "Residual Plot Shows the differnece between two predicted and original value.\n    \n    For Simple Linear Regression\n\n    Residual Plot Which are linear are appropriate.\n    And the ones with curves or if the variance varies the too are not appropriate from simple regressions"
    },
    {
      "metadata": {
        "trusted": true
      },
      "cell_type": "code",
      "source": "sns.regplot(df['sqft_living'],df['price'])",
      "execution_count": 12,
      "outputs": [
        {
          "output_type": "execute_result",
          "execution_count": 12,
          "data": {
            "text/plain": "<matplotlib.axes._subplots.AxesSubplot at 0x7f1802171c88>"
          },
          "metadata": {}
        },
        {
          "output_type": "display_data",
          "data": {
            "image/png": "[encoded data removed]",
            "text/plain": "<Figure size 432x288 with 1 Axes>"
          },
          "metadata": {
            "needs_background": "light"
          }
        }
      ]
    },
    {
      "metadata": {},
      "cell_type": "markdown",
      "source": "Since the above is more suitable because the points are more concentated to the regression line and are spread out in an even manner so the variance does not varies much. and since the regression line is straight so the above graph is appropriate for linear model"
    },
    {
      "metadata": {
        "trusted": true
      },
      "cell_type": "code",
      "source": "sns.regplot(df['floors'],df['sqft_lot'])",
      "execution_count": 13,
      "outputs": [
        {
          "output_type": "execute_result",
          "execution_count": 13,
          "data": {
            "text/plain": "<matplotlib.axes._subplots.AxesSubplot at 0x7f1801d872e8>"
          },
          "metadata": {}
        },
        {
          "output_type": "display_data",
          "data": {
            "image/png": "[encoded data removed]",
            "text/plain": "<Figure size 432x288 with 1 Axes>"
          },
          "metadata": {
            "needs_background": "light"
          }
        }
      ]
    },
    {
      "metadata": {},
      "cell_type": "markdown",
      "source": "The above plot is not appropriate because the points are not confined to the regression line."
    },
    {
      "metadata": {},
      "cell_type": "markdown",
      "source": "Distribution Plot\n    \n    For Multiple linear regression.\n    It plot the predicted value to the actual value"
    },
    {
      "metadata": {
        "trusted": true
      },
      "cell_type": "code",
      "source": "ax1=sns.distplot(df['price'],hist=False,color='r',label='Acual Value')\nsns.distplot(Yhat,hist=False,color='b',label='Fitted values',ax=ax1)",
      "execution_count": 14,
      "outputs": [
        {
          "output_type": "execute_result",
          "execution_count": 14,
          "data": {
            "text/plain": "<matplotlib.axes._subplots.AxesSubplot at 0x7f1801d7fe10>"
          },
          "metadata": {}
        },
        {
          "output_type": "display_data",
          "data": {
            "image/png": "[encoded data removed]",
            "text/plain": "<Figure size 432x288 with 1 Axes>"
          },
          "metadata": {
            "needs_background": "light"
          }
        }
      ]
    },
    {
      "metadata": {},
      "cell_type": "markdown",
      "source": "Since the Actual and Predicted Values are almost close to each other therefore this plot is appropraiate. Howsoever Improvement is also to be done."
    },
    {
      "metadata": {},
      "cell_type": "markdown",
      "source": "# POLYNOMIAL REGRESSION\n    Special case of general linear model or multiple linear model"
    },
    {
      "metadata": {},
      "cell_type": "markdown",
      "source": "We use this regression when Linear Regression Does not fits\n    \n    i.e., For Curvilinear Relationship"
    },
    {
      "metadata": {},
      "cell_type": "markdown",
      "source": "MATHEMATICALLY:\n    \n    Yhat=b0+b1(x)+b2(x)^2+b3(x)^3\n    \n    Degree of the equation considered plays an important role"
    },
    {
      "metadata": {
        "trusted": true
      },
      "cell_type": "code",
      "source": "x=df['sqft_living']\ny=df['price']\nf=np.polyfit(x,y,3)\np=np.poly1d(f)#for 1-Dimensional\nprint(p)\nnp.polyfit(x,y,3)",
      "execution_count": 15,
      "outputs": [
        {
          "output_type": "stream",
          "text": "            3           2\n-3.841e-06 x + 0.08705 x - 90.18 x + 3.368e+05\n",
          "name": "stdout"
        },
        {
          "output_type": "execute_result",
          "execution_count": 15,
          "data": {
            "text/plain": "array([-3.84055260e-06,  8.70465089e-02, -9.01819864e+01,  3.36819748e+05])"
          },
          "metadata": {}
        }
      ]
    },
    {
      "metadata": {
        "trusted": true
      },
      "cell_type": "code",
      "source": "PlotPolly(p,x,y,'sqft_living')",
      "execution_count": 31,
      "outputs": [
        {
          "output_type": "error",
          "ename": "NameError",
          "evalue": "name 'PlotPolly' is not defined",
          "traceback": [
            "\u001b[0;31m---------------------------------------------------------------------------\u001b[0m",
            "\u001b[0;31mNameError\u001b[0m                                 Traceback (most recent call last)",
            "\u001b[0;32m<ipython-input-31-99eae212739e>\u001b[0m in \u001b[0;36m<module>\u001b[0;34m\u001b[0m\n\u001b[0;32m----> 1\u001b[0;31m \u001b[0mPlotPolly\u001b[0m\u001b[0;34m(\u001b[0m\u001b[0mp\u001b[0m\u001b[0;34m,\u001b[0m\u001b[0mx\u001b[0m\u001b[0;34m,\u001b[0m\u001b[0my\u001b[0m\u001b[0;34m,\u001b[0m\u001b[0;34m'sqft_living'\u001b[0m\u001b[0;34m)\u001b[0m\u001b[0;34m\u001b[0m\u001b[0m\n\u001b[0m",
            "\u001b[0;31mNameError\u001b[0m: name 'PlotPolly' is not defined"
          ]
        }
      ]
    },
    {
      "metadata": {},
      "cell_type": "markdown",
      "source": "For 2-Dimensional"
    },
    {
      "metadata": {
        "trusted": true
      },
      "cell_type": "code",
      "source": "from sklearn.preprocessing import PolynomialFeatures\npr=PolynomialFeatures(degree=2,include_bias=False)\nx_polly=pr.fit_transform(df[['sqft_living','price']])\nx_polly.shape",
      "execution_count": 38,
      "outputs": [
        {
          "output_type": "execute_result",
          "execution_count": 38,
          "data": {
            "text/plain": "(21613, 5)"
          },
          "metadata": {}
        }
      ]
    },
    {
      "metadata": {},
      "cell_type": "markdown",
      "source": "For Simplicity We Normalize as Follows:"
    },
    {
      "metadata": {
        "trusted": true
      },
      "cell_type": "code",
      "source": "from sklearn.preprocessing import StandardScaler\nscale=StandardScaler()\nscale.fit(df[['sqft_living','price']])\nx_scale=scale.transform(df[['sqft_living','price']])\nx_scale.shape",
      "execution_count": 30,
      "outputs": [
        {
          "output_type": "execute_result",
          "execution_count": 30,
          "data": {
            "text/plain": "(21613, 2)"
          },
          "metadata": {}
        }
      ]
    },
    {
      "metadata": {},
      "cell_type": "markdown",
      "source": "After simplification their are  21613 samples and 2 features"
    },
    {
      "metadata": {},
      "cell_type": "markdown",
      "source": "# PIPELINES\n    Generally To Simplify The Above Code"
    },
    {
      "metadata": {
        "trusted": true
      },
      "cell_type": "code",
      "source": "from sklearn.pipeline import Pipeline\nfrom sklearn.preprocessing import StandardScaler\nInput=[('scale',StandardScaler()),('polynomial',PolynomialFeatures()),('model',LinearRegression())]\npipe=Pipeline(Input)\npipe",
      "execution_count": 41,
      "outputs": [
        {
          "output_type": "execute_result",
          "execution_count": 41,
          "data": {
            "text/plain": "Pipeline(memory=None,\n     steps=[('scale', StandardScaler(copy=True, with_mean=True, with_std=True)), ('polynomial', PolynomialFeatures(degree=2, include_bias=True, interaction_only=False)), ('model', LinearRegression(copy_X=True, fit_intercept=True, n_jobs=None,\n         normalize=False))])"
          },
          "metadata": {}
        }
      ]
    },
    {
      "metadata": {
        "trusted": true
      },
      "cell_type": "code",
      "source": "pipe.fit(z,y)",
      "execution_count": 42,
      "outputs": [
        {
          "output_type": "execute_result",
          "execution_count": 42,
          "data": {
            "text/plain": "Pipeline(memory=None,\n     steps=[('scale', StandardScaler(copy=True, with_mean=True, with_std=True)), ('polynomial', PolynomialFeatures(degree=2, include_bias=True, interaction_only=False)), ('model', LinearRegression(copy_X=True, fit_intercept=True, n_jobs=None,\n         normalize=False))])"
          },
          "metadata": {}
        }
      ]
    },
    {
      "metadata": {
        "trusted": true
      },
      "cell_type": "code",
      "source": "yp=pipe.predict(z)\nyp",
      "execution_count": 45,
      "outputs": [
        {
          "output_type": "execute_result",
          "execution_count": 45,
          "data": {
            "text/plain": "array([291666.92916084, 733705.04820517, 277868.92622482, ...,\n       254312.74770927, 399677.54875505, 253642.05251599])"
          },
          "metadata": {}
        }
      ]
    }
  ],
  "metadata": {
    "kernelspec": {
      "name": "python36",
      "display_name": "Python 3.6",
      "language": "python"
    },
    "language_info": {
      "mimetype": "text/x-python",
      "nbconvert_exporter": "python",
      "name": "python",
      "pygments_lexer": "ipython3",
      "version": "3.6.6",
      "file_extension": ".py",
      "codemirror_mode": {
        "version": 3,
        "name": "ipython"
      }
    }
  },
  "nbformat": 4,
  "nbformat_minor": 2
}